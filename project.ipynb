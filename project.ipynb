{
 "cells": [
  {
   "cell_type": "markdown",
   "metadata": {},
   "source": [
    "# <a id=\"contents\"></a> Table of Contents\n",
    "\n",
    "1. [Research Question](#research-question)\n",
    "2. [Import Libraries](#imports)\n",
    "3. [Standardizing Data](#standardizing-data)\n",
    "4. [Loading Position Data](#loading-data)\n",
    "5. [Descriptive Statistics and Visualization](#descriptive-stats)\n",
    "   - 5.1 [Descriptive Statistics Calculation](#descriptive-stats-calc)\n",
    "   - 5.2 [Displaying Descriptive Statistics as Heatmap](#descriptive-stats-heatmap)\n",
    "6. [Distribution and Box Plot Visualization](#distribution-and-box-plot)\n",
    "7. [Correlation Heatmaps](#correlation-heatmaps)\n",
    "8. [PCA](#baseline-models)\n",
    "   - 8.1 [Defense PCA Baseline](#baseline-models-defense)\n",
    "   - 8.2 [Midfielder PCA Baseline](#baseline-models-midfielder)\n",
    "   - 8.3 [Goalkeeper PCA Baseline](#baseline-models-goalkeeper)\n",
    "   - 8.4 [Forward PCA Baseline](#baseline-models-forward)\n"
   ]
  },
  {
   "cell_type": "markdown",
   "metadata": {},
   "source": [
    "<a id=\"research-question\"></a>\n",
    "\n",
    "## <div class='section'>Section 1: Research Question</div>\n"
   ]
  },
  {
   "cell_type": "markdown",
   "metadata": {},
   "source": [
    "How do players' skills across different positions in the top five European soccer leagues compare and cluster based on principal components derived from performance metrics, and who are the best players for each position? For our final project, we utilized data scraped from FBref.com to perform a Principal Component Analysis to explore similarities across top players and their respective positions."
   ]
  },
  {
   "cell_type": "markdown",
   "metadata": {},
   "source": [
    "<a id=\"imports\"></a>\n",
    "\n",
    "## <div class='section'>Section 2: Import Libraries</div>\n"
   ]
  },
  {
   "cell_type": "code",
   "execution_count": 400,
   "metadata": {},
   "outputs": [],
   "source": [
    "import itertools\n",
    "import math\n",
    "import time\n",
    "import numpy as np\n",
    "import pandas as pd\n",
    "import seaborn as sns\n",
    "import matplotlib.pyplot as plt\n",
    "from sklearn.preprocessing import StandardScaler\n",
    "\n",
    "# pandas tricks for better display\n",
    "pd.options.display.max_columns = 50  \n",
    "pd.options.display.max_rows = 500     \n",
    "pd.options.display.max_colwidth = 100\n",
    "pd.options.display.precision = 3"
   ]
  },
  {
   "cell_type": "markdown",
   "metadata": {},
   "source": [
    "<a id=\"standardizing-data\"></a>\n",
    "\n",
    "## <div class='section'>Section 3: Standardizing Data</div>\n",
    "\n",
    "[Return to contents](#contents)\n",
    "\n",
    "Here, we define a `standardize` function that will be used to scale and standardize the data to ensure that each feature contributes equally to any subsequent analysis so that we can avoid biases due to differences in scale. Since our project involves the use of PCA, it is essential to standardize the data to ensure that each predictor contributes equally and without bias to the principal components."
   ]
  },
  {
   "cell_type": "code",
   "execution_count": 401,
   "metadata": {},
   "outputs": [],
   "source": [
    "def standardize(df):\n",
    "    \n",
    "    if 'Player' in df.columns:\n",
    "        player_column = df['Player']\n",
    "\n",
    "    if 'Comp' in df.columns:\n",
    "        comp_column = df['Comp']\n",
    "        \n",
    "    numeric_columns = df.select_dtypes(include='number').columns\n",
    "    scaler = StandardScaler()\n",
    "    standardized_data = scaler.fit_transform(df[numeric_columns])\n",
    "\n",
    "    standardized_df = pd.DataFrame(standardized_data, columns=numeric_columns)\n",
    "    standardized_df['Player'] = player_column.reset_index(drop=True)\n",
    "    standardized_df['Comp'] = comp_column.reset_index(drop=True)\n",
    "    \n",
    "    return standardized_df\n"
   ]
  },
  {
   "cell_type": "markdown",
   "metadata": {},
   "source": [
    "<a id=\"loading-data\"></a>\n",
    "\n",
    "## <div class='section'>Section 4: Loading Position Data</div>\n",
    "\n",
    "[Return to contents](#contents)\n",
    "\n",
    "Here, we load and `standardize` data from CSV files for each position, then organize them in a dictionary. To improve our analysis, we seperated our data into four datasets based on the four different player positions. This distinction is important since the relevant player statistics for different positions (e.g. outfielder vs. goalkeeper) are very different, and would therefore distort our PCA if left combined. Additionally, we rename the predictors to ease interpretability within our notebook."
   ]
  },
  {
   "cell_type": "code",
   "execution_count": 402,
   "metadata": {},
   "outputs": [],
   "source": [
    "# Make dataframes\n",
    "goalkeepers = standardize(pd.read_csv(\"stats/GK_relevant_stats.csv\"))\n",
    "defenders = standardize(pd.read_csv(\"stats/DF_relevant_stats.csv\"))\n",
    "midfielders = standardize(pd.read_csv(\"stats/MF_relevant_stats.csv\"))\n",
    "forwards = standardize(pd.read_csv(\"stats/FW_relevant_stats.csv\"))\n",
    "\n",
    "# Dictionary of dataframes for each position\n",
    "dataframes = {\n",
    "    'Goalkeepers': goalkeepers, \n",
    "    'Defenders': defenders, \n",
    "    'Midfielders': midfielders, \n",
    "    'Forwards': forwards\n",
    "}\n",
    "\n",
    "column_mapping = {\n",
    "    'MP': 'Matches Played',\n",
    "    'Starts': 'Starts',\n",
    "    'Min': 'Minutes Played',\n",
    "    '90s': '90-Minute Increments',\n",
    "    'Gls': 'Goals',\n",
    "    'Ast': 'Assists',\n",
    "    'G+A': 'Goals + Assists',\n",
    "    'G-PK': 'Goals (Excl. Penalties)',\n",
    "    'PK': 'Penalty Goals',\n",
    "    'PKatt': 'Penalty Attempts',\n",
    "    'CrdY': 'Yellow Cards',\n",
    "    'CrdR': 'Red Cards',\n",
    "    'xG': 'Expected Goals',\n",
    "    'npxG': 'Non-Penalty Expected Goals',\n",
    "    'xAG': 'Expected Assists',\n",
    "    'npxG+xAG': 'Expected Non-Penalty Goals + Assists',\n",
    "    'PrgC': 'Progressive Carries',\n",
    "    'PrgP': 'Progressive Passes',\n",
    "    'PrgR': 'Progressive Runs',\n",
    "    'Glsp90': 'Goals per 90',\n",
    "    'Astp90': 'Assists per 90',\n",
    "    'G+Ap90': 'Goals + Assists per 90',\n",
    "    'xGp90': 'Expected Goals per 90',\n",
    "    'xAGp90': 'Expected Assists per 90',\n",
    "    'xG+xAGp90': 'Expected Goals + Assists per 90',\n",
    "    'npxGp90': 'Non-Penalty Goals per 90',\n",
    "    'npxG+xAGp90': 'Non-Penalty Goals + Assists per 90',\n",
    "    'Sh': 'Shots',\n",
    "    'SoT': 'Shots on Target',\n",
    "    'SoT%': 'Shots on Target %',\n",
    "    'Sh/90': 'Shots per 90',\n",
    "    'SoT/90': 'Shots on Target per 90',\n",
    "    'ShDist': 'Average Shot Distance',\n",
    "    'npxG/Sh': 'Non-Penalty xG per Shot',\n",
    "    'G-xG': 'Goals Minus xG',\n",
    "    'Cmp': 'Passes Completed',\n",
    "    'Att': 'Passes Attempted',\n",
    "    'Cmp%': 'Pass Completion %',\n",
    "    'PTotDist': 'Total Passing Distance',\n",
    "    'PPrgDist': 'Progressive Passing Distance',\n",
    "    'A-xAG': 'Assists Minus xAG',\n",
    "    'KP': 'Key Passes',\n",
    "    '1/3': 'Passes into Final Third',\n",
    "    'PPA': 'Passes into Penalty Area',\n",
    "    'Tkl': 'Tackles',\n",
    "    'TklW': 'Tackles Won',\n",
    "    'DTkl': 'Dribbles Tackled',\n",
    "    'DTklAtt': 'Dribbles Tackled Attempts',\n",
    "    'Tkl%': 'Tackle Success %',\n",
    "    'Blocks': 'Blocks',\n",
    "    'Int': 'Interceptions',\n",
    "    'Clr': 'Clearances',\n",
    "    'Touches': 'Touches',\n",
    "    'Def Pen': 'Touches in Defensive Penalty Area',\n",
    "    'Def 3rd': 'Touches in Defensive Third',\n",
    "    'Mid 3rd': 'Touches in Midfield Third',\n",
    "    'Att 3rd': 'Touches in Attacking Third',\n",
    "    'Att Pen': 'Touches in Attacking Penalty Area',\n",
    "    'TOAtt': 'Take-On Attempts',\n",
    "    'TOSucc': 'Take-On Successes',\n",
    "    'TOSucc%': 'Take-On Success %',\n",
    "    'Tkld': 'Tackled',\n",
    "    'Tkld%': 'Tackled %',\n",
    "    'Carries': 'Carries',\n",
    "    'CTotDist': 'Total Carry Distance',\n",
    "    'CPrgDist': 'Progressive Carry Distance',\n",
    "    'C1/3': 'Carries into Final Third',\n",
    "    'CPA': 'Carries into Penalty Area',\n",
    "    'Rec': 'Passes Received',\n",
    "    'GA': 'Goals Allowed',\n",
    "    'GA90': 'Goals Allowed per 90 Minutes',\n",
    "    'SoTA': 'Shots on Target Against',\n",
    "    'Saves': 'Saves Made',\n",
    "    'Save%': 'Save Percentage',\n",
    "    'CS': 'Clean Sheets',\n",
    "    'CS%': 'Clean Sheet Percentage',\n",
    "    'PSxG': 'Post-Shot Expected Goals',\n",
    "    'PSxG/SoT': 'Post-Shot Expected Goals per Shot on Target',\n",
    "    'PSxG+/-': 'Post-Shot Expected Goals Difference',\n",
    "    'Opp': 'Opponent Shots',\n",
    "    'Stp': 'Crosses Stopped',\n",
    "    'Stp%': 'Crosses Stopped Percentage'\n",
    "}\n",
    "\n",
    "defenders.rename(columns=column_mapping, inplace=True)\n",
    "goalkeepers.rename(columns=column_mapping, inplace=True)\n",
    "midfielders.rename(columns=column_mapping, inplace=True)\n",
    "forwards.rename(columns=column_mapping, inplace=True)\n",
    "\n",
    "# Numerate leagues for regression\n",
    "league_map = {\n",
    "    'Premier League' : 0,\n",
    "    'La Liga' : 1,\n",
    "    'Bundesliga' : 2,\n",
    "    'Serie A' : 3,\n",
    "    'Ligue 1' : 4\n",
    "}\n",
    "\n",
    "defenders['Comp'] = defenders['Comp'].map(league_map)\n",
    "goalkeepers['Comp'] = goalkeepers['Comp'].map(league_map)\n",
    "midfielders['Comp'] = midfielders['Comp'].map(league_map)\n",
    "forwards['Comp'] = forwards['Comp'].map(league_map)"
   ]
  },
  {
   "cell_type": "markdown",
   "metadata": {},
   "source": [
    "<a id=\"descriptive-stats\"></a>\n",
    "\n",
    "## <div class='section'>Section 5: Descriptive Statistics and Visualization</div>\n",
    "\n",
    "[Return to contents](#contents)\n",
    "\n",
    "Here, we calculate and visualize descriptive statistics for each position dataset which will provide insights into the central tendency, spread, and range of values for each feature in the dataset.\n",
    "\n",
    "\n",
    "<a id=\"descriptive-stats-calc\"></a>\n",
    "\n",
    "#### <div class='sub-section'>5.1: Descriptive Statistics Calculation</div>\n",
    "\n",
    "Here, we calculate the mean, standard deviation, median, min, max, and range of each numeric feature in the dataset.\n",
    "\n",
    "\n"
   ]
  },
  {
   "cell_type": "code",
   "execution_count": 403,
   "metadata": {},
   "outputs": [],
   "source": [
    "def descriptive_stats(df):\n",
    "    numeric_df = df.select_dtypes(include='number')\n",
    "    stats = numeric_df.describe().T  # Transpose for readability\n",
    "    stats['median'] = numeric_df.median()  # Add median\n",
    "    stats['range'] = stats['max'] - stats['min']  # Calculate range\n",
    "    return stats[['mean', 'std', 'median', 'min', 'max', 'range']]\n"
   ]
  },
  {
   "cell_type": "markdown",
   "metadata": {},
   "source": [
    "<a id=\"descriptive-stats-heatmap\"></a>\n",
    "\n",
    "#### <div class='sub-section'>5.2: Displaying Descriptive Statistics as Heatmap</div>\n",
    "\n",
    "Here, we create heatmaps to visualize the descriptive statistics for each feature and to help us easily spot outliers, patterns, and distributions across different features."
   ]
  },
  {
   "cell_type": "code",
   "execution_count": null,
   "metadata": {},
   "outputs": [],
   "source": [
    "def display_heatmap(stats, title):\n",
    "    fig, ax = plt.subplots(figsize=(12, len(stats) * 0.5 + 1.5))\n",
    "    sns.heatmap(stats, annot=True, fmt=\".2f\", cmap=\"YlGnBu\", cbar=False, linewidths=.5, \n",
    "                annot_kws={\"size\": 8}, ax=ax, square=True)\n",
    "    plt.xticks(rotation=45, ha='right', fontsize=10)\n",
    "    plt.yticks(rotation=0, fontsize=10)\n",
    "    plt.title(title, fontweight=\"bold\", fontsize=14, pad=20)\n",
    "    plt.tight_layout()\n",
    "    plt.show()\n",
    "\n",
    "\n",
    "# generating and displaying heatmap tables for each position's statistics\n",
    "for position, df in dataframes.items():\n",
    "    stats = descriptive_stats(df)\n",
    "    display_heatmap(stats, f\"Descriptive Statistics for {position}\")\n"
   ]
  },
  {
   "cell_type": "markdown",
   "metadata": {},
   "source": [
    "Midfielders: "
   ]
  },
  {
   "cell_type": "markdown",
   "metadata": {},
   "source": [
    "<a id=\"distribution-and-box-plot-visualization\"></a>\n",
    "\n",
    "## <div class='section'>Section 6: Distribution and Box Plot Visualization</div>\n",
    "\n",
    "[Return to contents](#contents)\n",
    "\n",
    "Here, we generate histograms and box plots for each feature to show the distribution and identify potential outliers. The histograms provide insight into how data points are distributed while box plots reveal central tendencies and variability. The histograms and box plots are then saved as PNG files in the 'plots' folder\n"
   ]
  },
  {
   "cell_type": "code",
   "execution_count": null,
   "metadata": {},
   "outputs": [],
   "source": [
    "def plot_and_save_plots(df, position, stats):\n",
    "    for stat in stats:\n",
    "        fig, axes = plt.subplots(1, 2, figsize=(12, 4))\n",
    "        label = stat_labels.get(stat, stat)\n",
    "\n",
    "        # histogram\n",
    "        sns.histplot(df[stat].dropna(), kde=True, ax=axes[0], color=\"skyblue\")\n",
    "        axes[0].set_title(f'{label} Distribution for {position}')\n",
    "        axes[0].set_xlabel(label)\n",
    "        axes[0].set_ylabel('Frequency')\n",
    "\n",
    "        # boxplot\n",
    "        sns.boxplot(x=df[stat].dropna(), ax=axes[1], color=\"lightgreen\")\n",
    "        axes[1].set_title(f'{label} Boxplot for {position}')\n",
    "        axes[1].set_xlabel(label)\n",
    "\n",
    "        plt.tight_layout()\n",
    "\n",
    "        # saving plots\n",
    "        filename = f\"plots/{position}_{stat}_EDA.png\".replace(\" \", \"_\")\n",
    "        plt.savefig(filename, format='png', dpi=300)\n",
    "        plt.close(fig)\n",
    "\n",
    "# generating and saving plots for each position\n",
    "for position, df in dataframes.items():\n",
    "    print(f\"Saving plots for {position}...\")\n",
    "    # plot_and_save_plots(df, position, basic_stats[position])\n",
    "\n",
    "print(\"All plots have been saved as PNG files.\")\n"
   ]
  },
  {
   "cell_type": "markdown",
   "metadata": {},
   "source": [
    "<a id=\"correlation-heatmaps\"></a>\n",
    "\n",
    "## <div class='section'>Section 7: Correlation Heatmaps</div>\n",
    "\n",
    "[Return to contents](#contents)\n",
    "\n",
    "Finally, we create correlation heatmaps to explore any positive or negative relationships between features that may be useful for further analysis or model building.\n"
   ]
  },
  {
   "cell_type": "code",
   "execution_count": null,
   "metadata": {},
   "outputs": [],
   "source": [
    "def save_correlation_heatmap(df, position, stats):\n",
    "    df_filtered = df[stats]\n",
    "    corr = df_filtered.corr()\n",
    "    plt.figure(figsize=(12, 10))\n",
    "    sns.heatmap(corr, annot=True, fmt=\".2f\", cmap=\"coolwarm\", cbar=True, square=True,\n",
    "                linewidths=0.5, annot_kws={\"size\": 8})\n",
    "    plt.title(f'Correlation Heatmap for {position}', fontweight='bold', fontsize=14)\n",
    "    plt.tight_layout()\n",
    "    filename = f\"heatmap/{position}_correlation_heatmap.png\".replace(\" \", \"_\")\n",
    "    plt.savefig(filename, format='png', dpi=300)\n",
    "    plt.close()\n",
    "\n",
    "# generating and saving correlation heatmaps for each position\n",
    "for position, df in dataframes.items():\n",
    "    print(f\"Generating correlation heatmap for {position}...\")\n",
    "    # save_correlation_heatmap(df, position, basic_stats[position])\n",
    "\n",
    "print(\"All correlation heatmaps have been saved as PNG files.\")\n"
   ]
  },
  {
   "cell_type": "markdown",
   "metadata": {},
   "source": [
    "<a id=\"baseline-models\"></a>\n",
    "\n",
    "## <div class='section'>Section 8: PCA</div>\n",
    "\n",
    "[Return to contents](#contents)\n",
    "\n",
    "Here we are creating the baseline PCA models for each position.\n",
    "\n",
    "\n",
    "<a id=\"baseline-models-defense\"></a>\n",
    "\n",
    "#### <div class='sub-section'>8.1: Defense PCA</div>\n"
   ]
  },
  {
   "cell_type": "code",
   "execution_count": null,
   "metadata": {},
   "outputs": [],
   "source": [
    "from sklearn.decomposition import PCA\n",
    "from sklearn.model_selection import train_test_split\n",
    "\n",
    "# numeric = defenders.select_dtypes(include=[np.number]).dropna()\n",
    "defender_train, defender_test = train_test_split(defenders, test_size=0.2, random_state=42)\n",
    "\n",
    "numeric_train = defender_train.select_dtypes(include='number').drop(columns=['Player'], errors='ignore').dropna()\n",
    "defender_train = defender_train.loc[numeric_train.index].reset_index(drop=True)\n",
    "\n",
    "pca = PCA()\n",
    "defender_pca= pca.fit_transform(numeric_train)\n",
    "\n",
    "explained_variance_ratio = pca.explained_variance_ratio_\n",
    "cumulative_variance = np.cumsum(explained_variance_ratio)\n",
    "\n",
    "valid_components = np.argmax(cumulative_variance >= 0.95) + 1\n",
    "\n",
    "print(f\"The total number of components is: {pca.n_components_}.\")\n",
    "print(f\"The number of components required to explain 95% of the variance is: {valid_components}.\")\n",
    "\n",
    "plt.figure(figsize=(10, 6))\n",
    "plt.plot(range(1, len(cumulative_variance)+1), cumulative_variance,marker='o', linestyle='--')\n",
    "plt.axhline(y=0.95, color='r', linestyle='--', label='95% Variance Threshold')\n",
    "plt.axvline(x=valid_components, color='g', linestyle='--', label=f'{valid_components} Components')\n",
    "plt.xlabel('Number of Components')\n",
    "plt.ylabel('Cumulative Explained Variance')\n",
    "plt.title('Explained Variance vs. Number of Components for Defenders')\n",
    "plt.show()"
   ]
  },
  {
   "cell_type": "markdown",
   "metadata": {},
   "source": [
    "In order to explain 95% of the variancee, only 12 principal components are needed. The steepness of the initial curve demonstrates that only a small number of components determine most of the variance in defencer performance. This analysis is helpful for PCA because it gives insight into how many components will be most helpful for the final model. "
   ]
  },
  {
   "cell_type": "code",
   "execution_count": null,
   "metadata": {},
   "outputs": [],
   "source": [
    "# defender_train = defender_train.reset_index(drop=True)\n",
    "defender_train['PC1'] = defender_pca[:, 0]\n",
    "defender_train['PC2'] = defender_pca[:, 1]\n",
    "\n",
    "top_defenders = defender_train.nlargest(10, 'PC1')\n",
    "\n",
    "print(\"Top 10 defenders based on PC1:\")\n",
    "print(top_defenders[['Player', 'PC1']])"
   ]
  },
  {
   "cell_type": "code",
   "execution_count": null,
   "metadata": {},
   "outputs": [],
   "source": [
    "\n",
    "plt.figure(figsize=(12, 8))\n",
    "plt.scatter(defender_pca[:, 0], defender_pca[:, 1], alpha=0.6, label=\"All Defenders\")\n",
    "\n",
    "for _, row in top_defenders.iterrows():\n",
    "    pc1 = row['PC1']\n",
    "    pc2 = row['PC2']\n",
    "    plt.scatter(pc1, pc2, color='red', s=100, label=row['Player'])\n",
    "    plt.text(pc1, pc2, row['Player'], fontsize=9, ha='right', color='darkblue')\n",
    "plt.xlabel(\"PC1\")\n",
    "plt.ylabel(\"PC2\")\n",
    "plt.title(\"2D PCA Projection of Defenders with Top 10 Highlighted\")\n",
    "plt.legend(loc='best', fontsize=8, ncol=2)\n",
    "plt.show()"
   ]
  },
  {
   "cell_type": "markdown",
   "metadata": {},
   "source": [
    "This plot demonstrates that most of the defenders are clustered aroudn the origin. It is also apparent that there are no distinct groups outside of the large mass. However, the top defenders stand out significantly and are far away from the general cluster. "
   ]
  },
  {
   "cell_type": "code",
   "execution_count": null,
   "metadata": {
    "scrolled": true
   },
   "outputs": [],
   "source": [
    "fig, ax = plt.subplots(1, 1, figsize=(15, 8))\n",
    "pc_loadings = pca.components_[0]\n",
    "absolute_loadings = np.abs(pc_loadings)\n",
    "\n",
    "top_indices = np.argsort(absolute_loadings)[-40:][::-1]\n",
    "top_features = defender_train.columns[top_indices]\n",
    "top_contributions = absolute_loadings[top_indices]\n",
    "ax.bar(top_features, top_contributions, color='red')\n",
    "ax.set_title('Top 40 Predictor Contributions to PC1')\n",
    "ax.set_xticks(range(len(top_features)))\n",
    "ax.set_xticklabels(top_features, rotation=90)\n",
    "ax.set_xlabel('Top 40 Predictors')\n",
    "ax.set_ylabel('Absolute Contribution to Principal Component')\n",
    "\n",
    "plt.tight_layout()\n",
    "plt.show()"
   ]
  },
  {
   "cell_type": "code",
   "execution_count": null,
   "metadata": {},
   "outputs": [],
   "source": []
  },
  {
   "cell_type": "markdown",
   "metadata": {},
   "source": [
    "\n",
    "<a id=\"baseline-models-midfielder\"></a>\n",
    "\n",
    "#### <div class='sub-section'>8.2: Midfielder PCA\n"
   ]
  },
  {
   "cell_type": "code",
   "execution_count": null,
   "metadata": {},
   "outputs": [],
   "source": [
    "#mapping\n",
    "midfielders.rename(columns=column_mapping, inplace=True)\n",
    "\n",
    "#Dropping NA from both datasets\n",
    "midfielders = midfielders.dropna().copy()\n",
    "numeric = midfielders.select_dtypes(include=[np.number])\n",
    "\n",
    "#Fitting the PCA\n",
    "pca = PCA().fit(numeric)\n",
    "pca_mid = pca.transform(numeric)\n",
    "\n",
    "#Calculating number of components and CI \n",
    "cumulative_variance = np.cumsum(pca.explained_variance_ratio_)\n",
    "n_components_95 = np.argmax(cumulative_variance >= 0.95) + 1 \n",
    "\n",
    "\n",
    "#Attaching PCA values to dataset\n",
    "midfielders['PC1'] = pca_mid[:, 0]\n",
    "midfielders['PC2'] = pca_mid[:, 1]\n",
    "\n",
    "#Printing findings\n",
    "print(f\"The number of components is: {pca.n_components_}. \")\n",
    "print(f\"The number of components required to explain 95% of the variance is: {n_components_95}\")\n",
    "\n",
    "#confidence interval\n",
    "plt.figure(figsize=(10, 6))\n",
    "plt.plot(range(1, len(cumulative_variance) + 1), cumulative_variance, marker='o', linestyle='--')\n",
    "plt.axhline(y=0.95, color='r', linestyle='--', label='95% Variance Threshold')\n",
    "plt.axvline(x=n_components_95, color='g', linestyle='--', label=f'{n_components_95} Components')\n",
    "plt.xlabel('Number of Components')\n",
    "plt.ylabel('Cumulative Explained Variance')\n",
    "plt.title('Explained Variance vs. Number of Components for Midfielders')\n",
    "plt.legend(loc='lower right')\n",
    "plt.show()"
   ]
  },
  {
   "cell_type": "code",
   "execution_count": null,
   "metadata": {
    "scrolled": true
   },
   "outputs": [],
   "source": [
    "print(\"Top 10 midfielders based on PC1:\")\n",
    "print(midfielders[['Player', 'PC1']].sort_values(by='PC1', ascending=False).head(10))"
   ]
  },
  {
   "cell_type": "code",
   "execution_count": null,
   "metadata": {
    "scrolled": true
   },
   "outputs": [],
   "source": [
    "# graphing PCA with names\n",
    "midfielders_reset = midfielders.reset_index(drop=True)\n",
    "best_midfielders = midfielders.sort_values(by='PC1', ascending=False).head(10)\n",
    "\n",
    "famous_indices = best_midfielders.index\n",
    "\n",
    "plt.figure(figsize=(10, 6))\n",
    "plt.scatter(midfielders['PC1'], midfielders['PC2'], alpha=0.6, label='All Midfielders')\n",
    "\n",
    "for i in famous_indices:\n",
    "    plt.scatter(midfielders.loc[i, 'PC1'], midfielders.loc[i, 'PC2'], color='red', s=100, label=midfielders.loc[i, 'Player']) \n",
    "    plt.text(midfielders.loc[i, 'PC1'], midfielders.loc[i, 'PC2'], midfielders.loc[i, 'Player'], fontsize=9, ha='right', color='darkblue')\n",
    "\n",
    "plt.xlabel(\"PC1\")\n",
    "plt.ylabel(\"PC2\")\n",
    "plt.title(\"2D PCA Projection of Player Data with Highlighted Midfielders\")\n",
    "plt.legend(loc='best', fontsize=8, ncol=2)\n",
    "plt.tight_layout()\n",
    "plt.show()"
   ]
  },
  {
   "cell_type": "code",
   "execution_count": null,
   "metadata": {
    "scrolled": true
   },
   "outputs": [],
   "source": [
    "print(\"Top 10 midfielders based on PC1:\")\n",
    "print(midfielders[['Player', 'PC1']].sort_values(by='PC1', ascending=False).head(10))"
   ]
  },
  {
   "cell_type": "code",
   "execution_count": null,
   "metadata": {
    "scrolled": true
   },
   "outputs": [],
   "source": [
    "#Predictor Contributing to Components bar graph\n",
    "num_components = 2\n",
    "\n",
    "fig, axes = plt.subplots(num_components, 1, figsize=(15, 15), sharey=True)\n",
    "\n",
    "for i in range(num_components):\n",
    "    pc_loadings = pca.components_[i]\n",
    "    absolute_loadings = np.abs(pc_loadings)  \n",
    "   \n",
    "    top_indices = np.argsort(absolute_loadings)[-40:][::-1]  \n",
    "    top_features = midfielders.columns[top_indices]  \n",
    "    top_contributions = absolute_loadings[top_indices]  \n",
    "\n",
    "    axes[i].bar(top_features, top_contributions, color='red')\n",
    "    axes[i].set_title(f'Top 40 Predictor Contributions to PC{i + 1}')\n",
    "    axes[i].set_xticks(range(len(top_features)))\n",
    "    axes[i].set_xticklabels(top_features, rotation=45, ha='right')\n",
    "    axes[i].set_xlabel('Top 40 Predictors')\n",
    "    axes[i].set_ylabel('Absolute Contribution to Principal Component')\n",
    "\n",
    "plt.tight_layout()\n",
    "plt.show()"
   ]
  },
  {
   "cell_type": "markdown",
   "metadata": {},
   "source": [
    "<a id=\"baseline-models-goalkeeper\"></a>\n",
    "\n",
    "#### <div class='sub-section'>8.3: Goalkeeper PCA Baseline</div>"
   ]
  },
  {
   "cell_type": "code",
   "execution_count": null,
   "metadata": {
    "scrolled": true
   },
   "outputs": [],
   "source": [
    "from sklearn.decomposition import PCA\n",
    "\n",
    "#make sure to standardize the data below, if you read directly from the csv its not standardized \n",
    "#i think that will change the # of components that = 95%\n",
    "#after uncomment the 95% line in your graph\n",
    "\n",
    "goalkeepers_numeric = goalkeepers.select_dtypes(include=[np.number]).dropna()\n",
    "\n",
    "pca = PCA()\n",
    "pca_data = pca.fit_transform(goalkeepers_numeric)\n",
    "\n",
    "explained_variance_ratio = pca.explained_variance_ratio_\n",
    "cumulative_variance = np.cumsum(explained_variance_ratio)\n",
    "valid_components = np.argmax(cumulative_variance >= 0.95) + 1\n",
    "\n",
    "print(f\"The number of components is: {pca.n_components_}. \")\n",
    "print(f\"The number of components required to explain 95% of the variance is: {valid_components}\")\n",
    "\n",
    "plt.figure(figsize=(10, 6))\n",
    "plt.plot(range(1, len(cumulative_variance) + 1), cumulative_variance, marker='o', linestyle='--')\n",
    "plt.axvline(x=valid_components, color='g', linestyle='--', label=f'{valid_components} Components')\n",
    "plt.axhline(y=0.95, color='r', linestyle='--', label='95% Variance Threshold')\n",
    "plt.xlabel('Number of Components')\n",
    "plt.ylabel('Cumulative Explained Variance')\n",
    "plt.title('Explained Variance vs. Number of Components for Goalkeepers')\n",
    "plt.grid()\n",
    "plt.show()\n",
    "\n"
   ]
  },
  {
   "cell_type": "code",
   "execution_count": null,
   "metadata": {},
   "outputs": [],
   "source": [
    "pca_2d = PCA(n_components=2)\n",
    "goalkeepers_pca = pca_2d.fit_transform(goalkeepers_numeric)\n",
    "goalkeepers_df = goalkeepers.loc[goalkeepers_numeric.index] \n",
    "goalkeepers_df['PC1'] = goalkeepers_pca[:, 0]\n",
    "goalkeepers_df['PC2'] = goalkeepers_pca[:, 1]\n",
    "\n",
    "# the top 10 goalkeepers based on PC1\n",
    "top_pc1_goalkeepers = goalkeepers_df[['Player', 'PC1']].sort_values(by='PC1', ascending=False).head(10)\n",
    "\n",
    "print(\"\\nTop 10 goalkeepers based on PC1:\")\n",
    "print(top_pc1_goalkeepers)\n"
   ]
  },
  {
   "cell_type": "code",
   "execution_count": null,
   "metadata": {},
   "outputs": [],
   "source": [
    "plt.figure(figsize=(12, 8))\n",
    "\n",
    "plt.scatter(goalkeepers_pca[:, 0], goalkeepers_pca[:, 1], alpha=0.6, label=\"All Goalkeepers\")\n",
    "\n",
    "for _, row in top_pc1_goalkeepers.iterrows():\n",
    "    pc1_value = row['PC1']\n",
    "    pc2_value = goalkeepers_df.loc[goalkeepers_df['Player'] == row['Player'], 'PC2'].values[0]\n",
    "    plt.scatter(pc1_value, pc2_value, color='red', s=100, label=row['Player'])\n",
    "    plt.text(pc1_value, pc2_value, row['Player'], fontsize=9, ha='right', color='darkblue')\n",
    "    \n",
    "\n",
    "plt.xlabel(\"PC1\")\n",
    "plt.ylabel(\"PC2\")\n",
    "plt.title(\"2D PCA Projection of Goalkeepers with Top 10 Highlighted\")\n",
    "plt.legend(loc='best', fontsize=8, ncol=2)\n",
    "plt.grid()\n",
    "plt.tight_layout()\n",
    "plt.show()"
   ]
  },
  {
   "cell_type": "code",
   "execution_count": null,
   "metadata": {},
   "outputs": [],
   "source": [
    "#instead of listing them we are using the red bar graphs, similar to benistas code\n",
    "\n",
    "features = goalkeepers_numeric.columns\n",
    "pc_loadings = pca_2d.components_\n",
    "pc1_pc2_loadings = pd.DataFrame(pc_loadings[:2], columns=features, index=['PC1', 'PC2']).T\n",
    "\n",
    "print(\"\\nTop features contributing to PC1:\")\n",
    "print(pc1_pc2_loadings['PC1'].sort_values(ascending=False).head(5))\n",
    "\n",
    "print(\"\\nTop features contributing to PC2:\")\n",
    "print(pc1_pc2_loadings['PC2'].sort_values(ascending=False).head(5))\n",
    "\n",
    "'''\n",
    "Example code:\n",
    "fig, ax = plt.subplots(1, 1, figsize=(15, 10))\n",
    "pc_loadings = pca.components_[0]\n",
    "absolute_loadings = np.abs(pc_loadings)\n",
    "\n",
    "top_indices = np.argsort(absolute_loadings)[-40:][::-1]\n",
    "top_features = forward_nums.columns[top_indices]\n",
    "top_contributions = absolute_loadings[top_indices]\n",
    "ax.bar(top_features, top_contributions, color='red')\n",
    "ax.set_title('Top 40 Predictor Contributions to PC1')\n",
    "ax.set_xticks(range(len(top_features)))\n",
    "ax.set_xticklabels(top_features, rotation=45)\n",
    "ax.set_xlabel('Top 40 Predictors')\n",
    "ax.set_ylabel('Absolute Contribution to Principal Component')\n",
    "\n",
    "plt.tight_layout()\n",
    "plt.show()\n",
    "'''\n"
   ]
  },
  {
   "cell_type": "code",
   "execution_count": null,
   "metadata": {},
   "outputs": [],
   "source": [
    "#i think we only need the pca graph where you call out names so you can edit this out\n",
    "\n",
    "'''\n",
    "pca_2d = PCA(n_components=2)\n",
    "goalkeepers_pca = pca_2d.fit_transform(goalkeepers_numeric)\n",
    "plt.figure(figsize=(12, 8))\n",
    "plt.scatter(goalkeepers_pca[:, 0], goalkeepers_pca[:, 1], alpha=0.7, edgecolors='k', s=50)\n",
    "plt.xlabel(\"PC1\")\n",
    "plt.ylabel(\"PC2\")\n",
    "plt.title(\"2D PCA Projection of Goalkeeper Data\")\n",
    "plt.grid()\n",
    "plt.tight_layout()\n",
    "plt.show()\n",
    "'''\n"
   ]
  },
  {
   "cell_type": "markdown",
   "metadata": {},
   "source": [
    "<a id=\"baseline-models-forward\"></a>\n",
    "\n",
    "#### <div class='sub-section'>8.4: Forward PCA</div>"
   ]
  },
  {
   "cell_type": "code",
   "execution_count": null,
   "metadata": {},
   "outputs": [],
   "source": [
    "forward_nums = forwards.select_dtypes(include=[np.number]).dropna()\n",
    "\n",
    "#make sure to standardize the data above, if you read directly from the csv its not standardized yet\n",
    "#i think that will change the # of components that = 95%\n",
    "#after uncomment the 95% line in your graph\n",
    "\n",
    "pca = PCA()\n",
    "pca_forwards = pca.fit_transform(forward_nums)\n",
    "\n",
    "cumulative_variance = np.cumsum(pca.explained_variance_ratio_)\n",
    "optimal_components = np.argmax(cumulative_variance >= 0.95) + 1\n",
    "\n",
    "print(f\"The number of components is: {pca.n_components_}. \")\n",
    "print(f\"The number of components required to explain 95% of the variance is: {optimal_components}\")\n",
    "\n",
    "plt.figure(figsize=(10, 6))\n",
    "plt.plot(range(1, len(cumulative_variance)+1), cumulative_variance,marker='o', linestyle='--')\n",
    "plt.axvline(x=optimal_components, color='g', linestyle='--', label=f'{optimal_components} Components')\n",
    "plt.axhline(y=0.95, color='r', linestyle='--', label='95% Variance Threshold')\n",
    "plt.xlabel('Number of Components')\n",
    "plt.ylabel('Cumulative Explained Variance')\n",
    "plt.title('Explained Variance vs. Number of Components for Forwards')\n",
    "plt.show()"
   ]
  },
  {
   "cell_type": "code",
   "execution_count": null,
   "metadata": {},
   "outputs": [],
   "source": [
    "forwards = forwards.loc[forward_nums.index]\n",
    "forwards['PC1'] = pca_forwards[:, 0]\n",
    "forwards['PC2'] = pca_forwards[:, 1]\n",
    "\n",
    "top_forwards = forwards.nlargest(10, 'PC1')\n",
    "print(\"Top 10 forwards based on PC1:\")\n",
    "print(top_forwards[['Player', 'PC1', 'PC2']])"
   ]
  },
  {
   "cell_type": "code",
   "execution_count": null,
   "metadata": {},
   "outputs": [],
   "source": [
    "plt.figure(figsize=(12, 8))\n",
    "plt.scatter(pca_forwards[:, 0], pca_forwards[:, 1], alpha=0.6, label=\"All Forwards\")\n",
    "\n",
    "for _, row in top_forwards.iterrows():\n",
    "    pc1 = row['PC1']\n",
    "    pc2 = row['PC2']\n",
    "    plt.scatter(pc1, pc2, color='red', s=100, label=row['Player'])\n",
    "    plt.text(pc1, pc2, row['Player'], fontsize=9, ha='right', color='darkblue')\n",
    "\n",
    "plt.xlabel(\"PC1\")\n",
    "plt.ylabel(\"PC2\")\n",
    "plt.title(\"2D PCA Projection of Forwards with Top 10 Highlighted\")\n",
    "plt.legend(loc='best', fontsize=8, ncol=2)\n",
    "plt.show()"
   ]
  },
  {
   "cell_type": "code",
   "execution_count": null,
   "metadata": {},
   "outputs": [],
   "source": [
    "fig, ax = plt.subplots(1, 1, figsize=(15, 10))\n",
    "pc_loadings = pca.components_[0]\n",
    "absolute_loadings = np.abs(pc_loadings)\n",
    "\n",
    "top_indices = np.argsort(absolute_loadings)[-40:][::-1]\n",
    "top_features = forward_nums.columns[top_indices]\n",
    "top_contributions = absolute_loadings[top_indices]\n",
    "ax.bar(top_features, top_contributions, color='red')\n",
    "ax.set_title('Top 40 Predictor Contributions to PC1')\n",
    "ax.set_xticks(range(len(top_features)))\n",
    "ax.set_xticklabels(top_features, rotation=45)\n",
    "ax.set_xlabel('Top 40 Predictors')\n",
    "ax.set_ylabel('Absolute Contribution to Principal Component')\n",
    "\n",
    "plt.tight_layout()\n",
    "plt.show()"
   ]
  }
 ],
 "metadata": {
  "kernelspec": {
   "display_name": "Python 3 (ipykernel)",
   "language": "python",
   "name": "python3"
  },
  "language_info": {
   "codemirror_mode": {
    "name": "ipython",
    "version": 3
   },
   "file_extension": ".py",
   "mimetype": "text/x-python",
   "name": "python",
   "nbconvert_exporter": "python",
   "pygments_lexer": "ipython3",
   "version": "3.12.5"
  }
 },
 "nbformat": 4,
 "nbformat_minor": 4
}
